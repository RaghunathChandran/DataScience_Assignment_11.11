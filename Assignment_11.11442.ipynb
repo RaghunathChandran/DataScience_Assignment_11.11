{
 "cells": [
  {
   "cell_type": "markdown",
   "metadata": {},
   "source": [
    "# Session 15: Assignment 1 - Raghunath"
   ]
  },
  {
   "cell_type": "markdown",
   "metadata": {},
   "source": [
    "## NOTE: Will be doing  step by step calculation using basic python programming, instead of using built-in functions"
   ]
  },
  {
   "cell_type": "markdown",
   "metadata": {},
   "source": [
    "### Problem Statement 1:\n",
    "    You survey households in your area to find the average rent they are paying. Find the standard deviation from the following data:\n",
    "    $1550, $1700, $900, $850, $1000, $950."
   ]
  },
  {
   "cell_type": "code",
   "execution_count": 1,
   "metadata": {},
   "outputs": [],
   "source": [
    "import pandas as pd\n",
    "import math as m\n",
    "import numpy as np"
   ]
  },
  {
   "cell_type": "code",
   "execution_count": 2,
   "metadata": {},
   "outputs": [
    {
     "name": "stdout",
     "output_type": "stream",
     "text": [
      "1158.3333333333333\n",
      "[153402.77777777784, 293402.77777777787, 66736.11111111107, 95069.4444444444, 25069.44444444442, 43402.777777777745]\n",
      "\n",
      "112847.22222222223\n"
     ]
    },
    {
     "data": {
      "text/plain": [
       "335.92740617910624"
      ]
     },
     "execution_count": 2,
     "metadata": {},
     "output_type": "execute_result"
    }
   ],
   "source": [
    "\n",
    "rents = [1550, 1700, 900, 850, 1000, 950]\n",
    "meanRent = sum(rents)/len(rents)\n",
    "print(meanRent)\n",
    "summation = [(r - meanRent) ** 2 for r in rents ]\n",
    "print(summation)\n",
    "print()\n",
    "variance = sum([(e-meanRent) ** 2 for e in rents])/len(rents)\n",
    "\n",
    "standardDeviation = m.sqrt(variance)\n",
    "#variance**0.5\n",
    "print(variance)\n",
    "standardDeviation\n"
   ]
  },
  {
   "cell_type": "markdown",
   "metadata": {},
   "source": [
    "mn = findmean(lst)\n",
    "    varinace = sum([(e-mn)**2 for e in lst])/len(lst)\n",
    "    return varinace"
   ]
  },
  {
   "cell_type": "code",
   "execution_count": 3,
   "metadata": {},
   "outputs": [
    {
     "name": "stdout",
     "output_type": "stream",
     "text": [
      "335.92740617910624\n",
      "count       6.000000\n",
      "mean     1158.333333\n",
      "std       367.990036\n",
      "min       850.000000\n",
      "25%       912.500000\n",
      "50%       975.000000\n",
      "75%      1412.500000\n",
      "max      1700.000000\n",
      "dtype: float64\n",
      "135416.6666666667\n"
     ]
    }
   ],
   "source": [
    "import pandas as pd\n",
    "v = pd.Series(rents)\n",
    "print(np.std(v))\n",
    "print(v.describe())\n",
    "print(v.var())"
   ]
  },
  {
   "cell_type": "markdown",
   "metadata": {},
   "source": [
    "### Problem Statement 2:\n",
    "    Find the variance for the following set of data representing trees in California (heights in feet):\n",
    "    3, 21, 98, 203, 17, 9"
   ]
  },
  {
   "cell_type": "code",
   "execution_count": 4,
   "metadata": {},
   "outputs": [
    {
     "data": {
      "text/plain": [
       "5183.25"
      ]
     },
     "execution_count": 4,
     "metadata": {},
     "output_type": "execute_result"
    }
   ],
   "source": [
    "treeheight = [3, 21, 98, 203, 17, 9]\n",
    "mean = sum(treeheight)/ len(treeheight)\n",
    "variance = sum([(t - mean) ** 2 for t in treeheight])/len(treeheight)\n",
    "variance"
   ]
  },
  {
   "cell_type": "markdown",
   "metadata": {},
   "source": [
    "### Problem Statement 3:\n",
    "    In a class on 100 students, 80 students passed in all subjects, 10 failed in one subject, 7 failed in two subjects and 3 failed in three subjects. Find the probability distribution of the variable for number of subjects a student from the given class has failed in."
   ]
  },
  {
   "cell_type": "markdown",
   "metadata": {
    "collapsed": true
   },
   "source": [
    "### Solution:\n",
    "#### 20 Students failed in atleast 1 subjects\n",
    "#### 10 Students failed in atleast 2 subjects\n",
    "#### 3 Students failed in 3 subjects\n",
    "\n",
    "    * probability of a student failing in 1 subject f(1) = 0.1\n",
    "    * probability of a student failing in 2 subjects f(2) = 0.07\n",
    "    * probability of a student failing in 3 subjects f(3) = 0.03\n",
    "    * probability of a student failing in 0 subjects f(0) = 0.8\n"
   ]
  }
 ],
 "metadata": {
  "kernelspec": {
   "display_name": "Python 3",
   "language": "python",
   "name": "python3"
  },
  "language_info": {
   "codemirror_mode": {
    "name": "ipython",
    "version": 3
   },
   "file_extension": ".py",
   "mimetype": "text/x-python",
   "name": "python",
   "nbconvert_exporter": "python",
   "pygments_lexer": "ipython3",
   "version": "3.7.1"
  }
 },
 "nbformat": 4,
 "nbformat_minor": 2
}
